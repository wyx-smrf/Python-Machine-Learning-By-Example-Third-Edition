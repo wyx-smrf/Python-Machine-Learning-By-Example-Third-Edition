{
 "cells": [
  {
   "cell_type": "code",
   "execution_count": 1,
   "id": "c98cad57-7e65-4a20-b796-aba0914f2b0d",
   "metadata": {},
   "outputs": [],
   "source": [
    "import numpy as np\n",
    "X_train = np.array([\n",
    "    [0, 1, 1],\n",
    "    [0, 0, 1],\n",
    "    [0, 0, 0],\n",
    "    [1, 1, 0]])\n",
    "Y_train = ['Y', 'N', 'Y', 'Y']\n",
    "X_test = np.array([[1, 1, 0]])"
   ]
  },
  {
   "cell_type": "code",
   "execution_count": 3,
   "id": "a909e3ac-216e-4e03-86d0-dcf6be260b38",
   "metadata": {},
   "outputs": [],
   "source": [
    "def get_label_indices(labels):\n",
    "    \"\"\"\n",
    "    Group samples based on their labels and return indices\n",
    "    @param labels: list of labels\n",
    "    @return: dict, {class1: [indices], class2: [indices]}\n",
    "    \"\"\"\n",
    "    from collections import defaultdict\n",
    "    label_indices = defaultdict(list)\n",
    "    for index, label in enumerate(labels):\n",
    "        label_indices[label].append(index)\n",
    "    return label_indices"
   ]
  },
  {
   "cell_type": "code",
   "execution_count": 4,
   "id": "287b53e2-a6b9-44a7-a010-cab178d2d2b5",
   "metadata": {},
   "outputs": [
    {
     "name": "stdout",
     "output_type": "stream",
     "text": [
      "label_indices:\n",
      " defaultdict(<class 'list'>, {'Y': [0, 2, 3], 'N': [1]})\n"
     ]
    }
   ],
   "source": [
    "label_indices = get_label_indices(Y_train)\n",
    "\n",
    "print('label_indices:\\n', label_indices)"
   ]
  },
  {
   "cell_type": "code",
   "execution_count": 7,
   "id": "ba938be2-72b0-47f0-9716-05d4266f1e7b",
   "metadata": {},
   "outputs": [],
   "source": [
    "def get_prior(label_indices):\n",
    "    \"\"\"\n",
    "    Compute prior based on training samples\n",
    "    @param label_indices: grouped sample indices by class\n",
    "    @return: dictionary, with class label as key, corresponding \n",
    "    prior as the value\n",
    "    \"\"\"\n",
    "    prior = {label: len(indices) for label, indices in label_indices.items()}\n",
    "    total_count = sum(prior.values())\n",
    "    for label in prior:\n",
    "        prior[label] /= total_count\n",
    "    return prior  "
   ]
  },
  {
   "cell_type": "code",
   "execution_count": 6,
   "id": "9a68c66c-68b9-41b9-ad7c-1db4d09e73c0",
   "metadata": {},
   "outputs": [
    {
     "name": "stdout",
     "output_type": "stream",
     "text": [
      "Prior: {'Y': 0.75, 'N': 0.25}\n"
     ]
    }
   ],
   "source": [
    "prior = get_prior(label_indices)\n",
    "print('Prior:', prior)"
   ]
  },
  {
   "cell_type": "code",
   "execution_count": 8,
   "id": "cc87a58c-5239-4e67-9797-b3fa597b9dc6",
   "metadata": {},
   "outputs": [],
   "source": [
    "def get_likelihood(features, label_indices, smoothing=0):\n",
    "    \"\"\"\n",
    "    Compute likelihood based on training samples\n",
    "    @param features: matrix of features\n",
    "    @param label_indices: grouped sample indices by class\n",
    "    @param smoothing: integer, additive smoothing parameter\n",
    "    @return: dictionary, with class as key, corresponding conditional probability P(feature|class) vector as value\n",
    "    \"\"\"\n",
    "    likelihood = {}\n",
    "    for label, indices in label_indices.items():\n",
    "        likelihood[label] = features[indices, :].sum(axis=0) + smoothing\n",
    "        total_count = len(indices)\n",
    "        likelihood[label] = likelihood[label] / (total_count + 2 * smoothing)\n",
    "    return likelihood"
   ]
  },
  {
   "cell_type": "code",
   "execution_count": 9,
   "id": "8118308c-529f-47d3-b1c4-4a0e8f27a845",
   "metadata": {},
   "outputs": [
    {
     "name": "stdout",
     "output_type": "stream",
     "text": [
      "Likelihood:\n",
      " {'Y': array([0.4, 0.6, 0.4]), 'N': array([0.33333333, 0.33333333, 0.66666667])}\n"
     ]
    }
   ],
   "source": [
    "smoothing = 1\n",
    "likelihood = get_likelihood(X_train, label_indices, smoothing)\n",
    "\n",
    "print('Likelihood:\\n', likelihood)"
   ]
  },
  {
   "cell_type": "code",
   "execution_count": 10,
   "id": "508e5bd3-06df-48b0-a343-972c1193fff5",
   "metadata": {},
   "outputs": [],
   "source": [
    "def get_posterior(X, prior, likelihood):\n",
    "    \"\"\"\n",
    "    Compute posterior of testing samples, based on prior and likelihood\n",
    "    @param X: testing samples\n",
    "    @param prior: dictionary, with class label as key, corresponding prior as the value\n",
    "    @param likelihood: dictionary, with class label as key, corresponding conditional probability vector as value\n",
    "    @return: dictionary, with class label as key, corresponding posterior as value\n",
    "    \"\"\"\n",
    "    posteriors = []\n",
    "    for x in X:\n",
    "        # posterior is proportional to prior * likelihood\n",
    "        posterior = prior.copy()\n",
    "        for label, likelihood_label in likelihood.items():\n",
    "            for index, bool_value in enumerate(x):\n",
    "                posterior[label] *= likelihood_label[index] if bool_value else (1 - likelihood_label[index])\n",
    "        # normalize so that all sums up to 1\n",
    "        sum_posterior = sum(posterior.values())\n",
    "        for label in posterior:\n",
    "            if posterior[label] == float('inf'):\n",
    "                posterior[label] = 1.0\n",
    "            else:\n",
    "                posterior[label] /= sum_posterior\n",
    "        posteriors.append(posterior.copy())\n",
    "    return posteriors"
   ]
  },
  {
   "cell_type": "code",
   "execution_count": 11,
   "id": "e65b27d2-1246-4ce5-811d-56fa030d279d",
   "metadata": {},
   "outputs": [
    {
     "name": "stdout",
     "output_type": "stream",
     "text": [
      "Posterior:\n",
      " [{'Y': 0.9210360075805433, 'N': 0.07896399241945673}]\n"
     ]
    }
   ],
   "source": [
    "posterior = get_posterior(X_test, prior, likelihood)\n",
    "\n",
    "print('Posterior:\\n', posterior)"
   ]
  },
  {
   "cell_type": "code",
   "execution_count": null,
   "id": "1d15a70e-0fc4-4c1f-a562-81aa9bb91225",
   "metadata": {},
   "outputs": [],
   "source": []
  }
 ],
 "metadata": {
  "kernelspec": {
   "display_name": "Python 3 (ipykernel)",
   "language": "python",
   "name": "python3"
  },
  "language_info": {
   "codemirror_mode": {
    "name": "ipython",
    "version": 3
   },
   "file_extension": ".py",
   "mimetype": "text/x-python",
   "name": "python",
   "nbconvert_exporter": "python",
   "pygments_lexer": "ipython3",
   "version": "3.9.12"
  }
 },
 "nbformat": 4,
 "nbformat_minor": 5
}
